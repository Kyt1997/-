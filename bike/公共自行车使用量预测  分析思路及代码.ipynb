{
 "cells": [
  {
   "cell_type": "code",
   "execution_count": 1,
   "metadata": {},
   "outputs": [],
   "source": [
    "import numpy as np\n",
    "import pandas as pd\n",
    "from sklearn.model_selection import train_test_split\n",
    "import seaborn as sns\n",
    "import matplotlib.pyplot as plt\n",
    "import warnings\n",
    "from sklearn import metrics\n",
    "from sklearn.preprocessing import StandardScaler, MinMaxScaler\n",
    "warnings.filterwarnings(\"ignore\")\n",
    "plt.rcParams['font.family'] = ['sans-serif']\n",
    "plt.rcParams['font.sans-serif'] = ['SimHei']\n",
    "pd.set_option('display.unicode.ambiguous_as_wide', True)\n",
    "pd.set_option('display.unicode.east_asian_width', True)\n",
    "%matplotlib inline\n",
    "from sklearn.ensemble import GradientBoostingRegressor\n",
    "from sklearn.metrics import mean_squared_error\n",
    "from sklearn.linear_model import LinearRegression\n",
    "from sklearn.linear_model import Ridge\n",
    "from sklearn.linear_model import Lasso\n",
    "from sklearn.ensemble import AdaBoostRegressor\n",
    "from xgboost import XGBRegressor\n",
    "from sklearn.decomposition import PCA\n",
    "from sklearn.ensemble import RandomForestRegressor\n",
    "from sklearn.svm import SVR\n",
    "from sklearn.model_selection import GridSearchCV\n",
    "from sklearn.tree import ExtraTreeRegressor\n",
    "from lightgbm import LGBMRegressor\n",
    "from sklearn.preprocessing import  PolynomialFeatures\n",
    "from sklearn.tree  import DecisionTreeRegressor"
   ]
  },
  {
   "cell_type": "code",
   "execution_count": 2,
   "metadata": {},
   "outputs": [],
   "source": [
    "def load_data(url):\n",
    "    data = pd.read_csv(url)\n",
    "    return data"
   ]
  },
  {
   "cell_type": "code",
   "execution_count": 3,
   "metadata": {},
   "outputs": [],
   "source": [
    "train = load_data(r'C:\\Users\\85402\\Desktop\\bike\\train.csv')    #还要再分成dev和train两部分，用于验证模型\n",
    "test = load_data(r'C:\\Users\\85402\\Desktop\\bike\\test.csv')\n",
    "sample_submit = load_data(r'C:\\Users\\85402\\Desktop\\bike\\sample_submit.csv') #看一看提交的形式"
   ]
  },
  {
   "cell_type": "code",
   "execution_count": 4,
   "metadata": {},
   "outputs": [
    {
     "data": {
      "text/html": [
       "<div>\n",
       "<style scoped>\n",
       "    .dataframe tbody tr th:only-of-type {\n",
       "        vertical-align: middle;\n",
       "    }\n",
       "\n",
       "    .dataframe tbody tr th {\n",
       "        vertical-align: top;\n",
       "    }\n",
       "\n",
       "    .dataframe thead th {\n",
       "        text-align: right;\n",
       "    }\n",
       "</style>\n",
       "<table border=\"1\" class=\"dataframe\">\n",
       "  <thead>\n",
       "    <tr style=\"text-align: right;\">\n",
       "      <th></th>\n",
       "      <th>id</th>\n",
       "      <th>city</th>\n",
       "      <th>hour</th>\n",
       "      <th>is_workday</th>\n",
       "      <th>weather</th>\n",
       "      <th>temp_1</th>\n",
       "      <th>temp_2</th>\n",
       "      <th>wind</th>\n",
       "    </tr>\n",
       "  </thead>\n",
       "  <tbody>\n",
       "    <tr>\n",
       "      <th>0</th>\n",
       "      <td>10001</td>\n",
       "      <td>0</td>\n",
       "      <td>1</td>\n",
       "      <td>1</td>\n",
       "      <td>1</td>\n",
       "      <td>20.7</td>\n",
       "      <td>20.6</td>\n",
       "      <td>0</td>\n",
       "    </tr>\n",
       "    <tr>\n",
       "      <th>1</th>\n",
       "      <td>10002</td>\n",
       "      <td>1</td>\n",
       "      <td>18</td>\n",
       "      <td>0</td>\n",
       "      <td>1</td>\n",
       "      <td>32.4</td>\n",
       "      <td>36.0</td>\n",
       "      <td>1</td>\n",
       "    </tr>\n",
       "    <tr>\n",
       "      <th>2</th>\n",
       "      <td>10003</td>\n",
       "      <td>1</td>\n",
       "      <td>16</td>\n",
       "      <td>1</td>\n",
       "      <td>1</td>\n",
       "      <td>27.6</td>\n",
       "      <td>26.9</td>\n",
       "      <td>4</td>\n",
       "    </tr>\n",
       "    <tr>\n",
       "      <th>3</th>\n",
       "      <td>10004</td>\n",
       "      <td>1</td>\n",
       "      <td>11</td>\n",
       "      <td>0</td>\n",
       "      <td>1</td>\n",
       "      <td>9.3</td>\n",
       "      <td>9.4</td>\n",
       "      <td>0</td>\n",
       "    </tr>\n",
       "    <tr>\n",
       "      <th>4</th>\n",
       "      <td>10005</td>\n",
       "      <td>0</td>\n",
       "      <td>10</td>\n",
       "      <td>1</td>\n",
       "      <td>2</td>\n",
       "      <td>24.8</td>\n",
       "      <td>26.9</td>\n",
       "      <td>2</td>\n",
       "    </tr>\n",
       "  </tbody>\n",
       "</table>\n",
       "</div>"
      ],
      "text/plain": [
       "      id  city  hour  is_workday  weather  temp_1  temp_2  wind\n",
       "0  10001     0     1           1        1    20.7    20.6     0\n",
       "1  10002     1    18           0        1    32.4    36.0     1\n",
       "2  10003     1    16           1        1    27.6    26.9     4\n",
       "3  10004     1    11           0        1     9.3     9.4     0\n",
       "4  10005     0    10           1        2    24.8    26.9     2"
      ]
     },
     "execution_count": 4,
     "metadata": {},
     "output_type": "execute_result"
    }
   ],
   "source": [
    "test.head(5)       #看一下test是否异常"
   ]
  },
  {
   "cell_type": "code",
   "execution_count": 5,
   "metadata": {},
   "outputs": [
    {
     "data": {
      "text/plain": [
       "(7000, 1)"
      ]
     },
     "execution_count": 5,
     "metadata": {},
     "output_type": "execute_result"
    }
   ],
   "source": [
    "test_id = test.loc[:,[\"id\"]]    #取出id\n",
    "test_id.shape                   "
   ]
  },
  {
   "cell_type": "code",
   "execution_count": 6,
   "metadata": {},
   "outputs": [
    {
     "name": "stdout",
     "output_type": "stream",
     "text": [
      "<class 'pandas.core.frame.DataFrame'>\n",
      "RangeIndex: 10000 entries, 0 to 9999\n",
      "Data columns (total 9 columns):\n",
      "id            10000 non-null int64\n",
      "city          10000 non-null int64\n",
      "hour          10000 non-null int64\n",
      "is_workday    10000 non-null int64\n",
      "weather       10000 non-null int64\n",
      "temp_1        10000 non-null float64\n",
      "temp_2        10000 non-null float64\n",
      "wind          10000 non-null int64\n",
      "y             10000 non-null int64\n",
      "dtypes: float64(2), int64(7)\n",
      "memory usage: 703.2 KB\n"
     ]
    }
   ],
   "source": [
    "train.info(null_counts=True)              #无缺失不需要填充\n"
   ]
  },
  {
   "cell_type": "code",
   "execution_count": 7,
   "metadata": {},
   "outputs": [
    {
     "name": "stdout",
     "output_type": "stream",
     "text": [
      "<class 'pandas.core.frame.DataFrame'>\n",
      "RangeIndex: 7000 entries, 0 to 6999\n",
      "Data columns (total 8 columns):\n",
      "id            7000 non-null int64\n",
      "city          7000 non-null int64\n",
      "hour          7000 non-null int64\n",
      "is_workday    7000 non-null int64\n",
      "weather       7000 non-null int64\n",
      "temp_1        7000 non-null float64\n",
      "temp_2        7000 non-null float64\n",
      "wind          7000 non-null int64\n",
      "dtypes: float64(2), int64(6)\n",
      "memory usage: 437.6 KB\n"
     ]
    }
   ],
   "source": [
    "test.info(null_counts=True)                     #无缺失，不需要填充"
   ]
  },
  {
   "cell_type": "code",
   "execution_count": 8,
   "metadata": {},
   "outputs": [],
   "source": [
    "train_X,dev_X,train_Y,dev_Y = train_test_split(train.iloc[:,:-1],train.iloc[:,-1],random_state=0,test_size=0.1)"
   ]
  },
  {
   "cell_type": "markdown",
   "metadata": {},
   "source": [
    "探索性分析环节"
   ]
  },
  {
   "cell_type": "code",
   "execution_count": 9,
   "metadata": {},
   "outputs": [],
   "source": [
    "train_Y = pd.DataFrame({\"y\":train_Y})    #取出y\n",
    "dev_Y = pd.DataFrame({\"y\":dev_Y})"
   ]
  },
  {
   "cell_type": "code",
   "execution_count": 10,
   "metadata": {},
   "outputs": [
    {
     "data": {
      "text/html": [
       "<div>\n",
       "<style scoped>\n",
       "    .dataframe tbody tr th:only-of-type {\n",
       "        vertical-align: middle;\n",
       "    }\n",
       "\n",
       "    .dataframe tbody tr th {\n",
       "        vertical-align: top;\n",
       "    }\n",
       "\n",
       "    .dataframe thead th {\n",
       "        text-align: right;\n",
       "    }\n",
       "</style>\n",
       "<table border=\"1\" class=\"dataframe\">\n",
       "  <thead>\n",
       "    <tr style=\"text-align: right;\">\n",
       "      <th></th>\n",
       "      <th>id</th>\n",
       "      <th>city</th>\n",
       "      <th>hour</th>\n",
       "      <th>is_workday</th>\n",
       "      <th>weather</th>\n",
       "      <th>temp_1</th>\n",
       "      <th>temp_2</th>\n",
       "      <th>wind</th>\n",
       "      <th>y</th>\n",
       "    </tr>\n",
       "  </thead>\n",
       "  <tbody>\n",
       "    <tr>\n",
       "      <th>1554</th>\n",
       "      <td>1555</td>\n",
       "      <td>1</td>\n",
       "      <td>11</td>\n",
       "      <td>0</td>\n",
       "      <td>3</td>\n",
       "      <td>23.3</td>\n",
       "      <td>25.3</td>\n",
       "      <td>2</td>\n",
       "      <td>58</td>\n",
       "    </tr>\n",
       "    <tr>\n",
       "      <th>2087</th>\n",
       "      <td>2088</td>\n",
       "      <td>0</td>\n",
       "      <td>14</td>\n",
       "      <td>1</td>\n",
       "      <td>1</td>\n",
       "      <td>29.4</td>\n",
       "      <td>32.8</td>\n",
       "      <td>0</td>\n",
       "      <td>62</td>\n",
       "    </tr>\n",
       "    <tr>\n",
       "      <th>5470</th>\n",
       "      <td>5471</td>\n",
       "      <td>1</td>\n",
       "      <td>19</td>\n",
       "      <td>0</td>\n",
       "      <td>2</td>\n",
       "      <td>27.1</td>\n",
       "      <td>28.3</td>\n",
       "      <td>0</td>\n",
       "      <td>97</td>\n",
       "    </tr>\n",
       "    <tr>\n",
       "      <th>2363</th>\n",
       "      <td>2364</td>\n",
       "      <td>0</td>\n",
       "      <td>16</td>\n",
       "      <td>1</td>\n",
       "      <td>1</td>\n",
       "      <td>30.3</td>\n",
       "      <td>33.8</td>\n",
       "      <td>1</td>\n",
       "      <td>102</td>\n",
       "    </tr>\n",
       "    <tr>\n",
       "      <th>7570</th>\n",
       "      <td>7571</td>\n",
       "      <td>1</td>\n",
       "      <td>15</td>\n",
       "      <td>1</td>\n",
       "      <td>1</td>\n",
       "      <td>27.0</td>\n",
       "      <td>28.2</td>\n",
       "      <td>0</td>\n",
       "      <td>63</td>\n",
       "    </tr>\n",
       "  </tbody>\n",
       "</table>\n",
       "</div>"
      ],
      "text/plain": [
       "        id  city  hour  is_workday  weather  temp_1  temp_2  wind    y\n",
       "1554  1555     1    11           0        3    23.3    25.3     2   58\n",
       "2087  2088     0    14           1        1    29.4    32.8     0   62\n",
       "5470  5471     1    19           0        2    27.1    28.3     0   97\n",
       "2363  2364     0    16           1        1    30.3    33.8     1  102\n",
       "7570  7571     1    15           1        1    27.0    28.2     0   63"
      ]
     },
     "execution_count": 10,
     "metadata": {},
     "output_type": "execute_result"
    }
   ],
   "source": [
    "train_data = pd.concat([train_X,train_Y],axis=1)      #合一下\n",
    "train_data.head(5)"
   ]
  },
  {
   "cell_type": "code",
   "execution_count": 11,
   "metadata": {},
   "outputs": [
    {
     "data": {
      "text/html": [
       "<div>\n",
       "<style scoped>\n",
       "    .dataframe tbody tr th:only-of-type {\n",
       "        vertical-align: middle;\n",
       "    }\n",
       "\n",
       "    .dataframe tbody tr th {\n",
       "        vertical-align: top;\n",
       "    }\n",
       "\n",
       "    .dataframe thead th {\n",
       "        text-align: right;\n",
       "    }\n",
       "</style>\n",
       "<table border=\"1\" class=\"dataframe\">\n",
       "  <thead>\n",
       "    <tr style=\"text-align: right;\">\n",
       "      <th></th>\n",
       "      <th>id</th>\n",
       "      <th>city</th>\n",
       "      <th>hour</th>\n",
       "      <th>is_workday</th>\n",
       "      <th>weather</th>\n",
       "      <th>temp_1</th>\n",
       "      <th>temp_2</th>\n",
       "      <th>wind</th>\n",
       "      <th>y</th>\n",
       "    </tr>\n",
       "  </thead>\n",
       "  <tbody>\n",
       "    <tr>\n",
       "      <th>count</th>\n",
       "      <td>9000.000000</td>\n",
       "      <td>9000.000000</td>\n",
       "      <td>9000.000000</td>\n",
       "      <td>9000.000000</td>\n",
       "      <td>9000.000000</td>\n",
       "      <td>9000.000000</td>\n",
       "      <td>9000.000000</td>\n",
       "      <td>9000.000000</td>\n",
       "      <td>9000.000000</td>\n",
       "    </tr>\n",
       "    <tr>\n",
       "      <th>mean</th>\n",
       "      <td>4992.049333</td>\n",
       "      <td>0.501111</td>\n",
       "      <td>11.512889</td>\n",
       "      <td>0.685556</td>\n",
       "      <td>1.426000</td>\n",
       "      <td>15.239911</td>\n",
       "      <td>15.300011</td>\n",
       "      <td>1.247222</td>\n",
       "      <td>50.331778</td>\n",
       "    </tr>\n",
       "    <tr>\n",
       "      <th>std</th>\n",
       "      <td>2888.563142</td>\n",
       "      <td>0.500027</td>\n",
       "      <td>6.944804</td>\n",
       "      <td>0.464320</td>\n",
       "      <td>0.635708</td>\n",
       "      <td>9.012280</td>\n",
       "      <td>11.302209</td>\n",
       "      <td>1.093523</td>\n",
       "      <td>47.830110</td>\n",
       "    </tr>\n",
       "    <tr>\n",
       "      <th>min</th>\n",
       "      <td>1.000000</td>\n",
       "      <td>0.000000</td>\n",
       "      <td>0.000000</td>\n",
       "      <td>0.000000</td>\n",
       "      <td>1.000000</td>\n",
       "      <td>-7.600000</td>\n",
       "      <td>-15.600000</td>\n",
       "      <td>0.000000</td>\n",
       "      <td>0.000000</td>\n",
       "    </tr>\n",
       "    <tr>\n",
       "      <th>25%</th>\n",
       "      <td>2487.750000</td>\n",
       "      <td>0.000000</td>\n",
       "      <td>6.000000</td>\n",
       "      <td>0.000000</td>\n",
       "      <td>1.000000</td>\n",
       "      <td>7.800000</td>\n",
       "      <td>5.800000</td>\n",
       "      <td>0.000000</td>\n",
       "      <td>10.000000</td>\n",
       "    </tr>\n",
       "    <tr>\n",
       "      <th>50%</th>\n",
       "      <td>4985.500000</td>\n",
       "      <td>1.000000</td>\n",
       "      <td>12.000000</td>\n",
       "      <td>1.000000</td>\n",
       "      <td>1.000000</td>\n",
       "      <td>15.600000</td>\n",
       "      <td>16.000000</td>\n",
       "      <td>1.000000</td>\n",
       "      <td>38.000000</td>\n",
       "    </tr>\n",
       "    <tr>\n",
       "      <th>75%</th>\n",
       "      <td>7495.250000</td>\n",
       "      <td>1.000000</td>\n",
       "      <td>18.000000</td>\n",
       "      <td>1.000000</td>\n",
       "      <td>2.000000</td>\n",
       "      <td>22.500000</td>\n",
       "      <td>24.800000</td>\n",
       "      <td>2.000000</td>\n",
       "      <td>74.000000</td>\n",
       "    </tr>\n",
       "    <tr>\n",
       "      <th>max</th>\n",
       "      <td>10000.000000</td>\n",
       "      <td>1.000000</td>\n",
       "      <td>23.000000</td>\n",
       "      <td>1.000000</td>\n",
       "      <td>4.000000</td>\n",
       "      <td>38.600000</td>\n",
       "      <td>46.800000</td>\n",
       "      <td>7.000000</td>\n",
       "      <td>249.000000</td>\n",
       "    </tr>\n",
       "  </tbody>\n",
       "</table>\n",
       "</div>"
      ],
      "text/plain": [
       "                 id         city         hour   is_workday      weather  \\\n",
       "count   9000.000000  9000.000000  9000.000000  9000.000000  9000.000000   \n",
       "mean    4992.049333     0.501111    11.512889     0.685556     1.426000   \n",
       "std     2888.563142     0.500027     6.944804     0.464320     0.635708   \n",
       "min        1.000000     0.000000     0.000000     0.000000     1.000000   \n",
       "25%     2487.750000     0.000000     6.000000     0.000000     1.000000   \n",
       "50%     4985.500000     1.000000    12.000000     1.000000     1.000000   \n",
       "75%     7495.250000     1.000000    18.000000     1.000000     2.000000   \n",
       "max    10000.000000     1.000000    23.000000     1.000000     4.000000   \n",
       "\n",
       "            temp_1       temp_2         wind            y  \n",
       "count  9000.000000  9000.000000  9000.000000  9000.000000  \n",
       "mean     15.239911    15.300011     1.247222    50.331778  \n",
       "std       9.012280    11.302209     1.093523    47.830110  \n",
       "min      -7.600000   -15.600000     0.000000     0.000000  \n",
       "25%       7.800000     5.800000     0.000000    10.000000  \n",
       "50%      15.600000    16.000000     1.000000    38.000000  \n",
       "75%      22.500000    24.800000     2.000000    74.000000  \n",
       "max      38.600000    46.800000     7.000000   249.000000  "
      ]
     },
     "execution_count": 11,
     "metadata": {},
     "output_type": "execute_result"
    }
   ],
   "source": [
    "train_data.describe()"
   ]
  },
  {
   "cell_type": "markdown",
   "metadata": {},
   "source": [
    "看这个气温上下限可能是南方城市，可以按照气温来划分四季"
   ]
  },
  {
   "cell_type": "code",
   "execution_count": 12,
   "metadata": {},
   "outputs": [
    {
     "name": "stdout",
     "output_type": "stream",
     "text": [
      "城市0的最高温是： 38.6\n",
      "城市0的最低温是： -7.6\n",
      "城市1的最高温是： 37.2\n",
      "城市1的最低温是： -7.6\n"
     ]
    }
   ],
   "source": [
    "print(\"城市0的最高温是：\",train_data[train_data[\"city\"]==0][\"temp_1\"].max())\n",
    "print(\"城市0的最低温是：\",train_data[train_data[\"city\"]==0][\"temp_1\"].min())\n",
    "\n",
    "print(\"城市1的最高温是：\",train_data[train_data[\"city\"]==1][\"temp_1\"].max())\n",
    "print(\"城市1的最低温是：\",train_data[train_data[\"city\"]==1][\"temp_1\"].min())"
   ]
  },
  {
   "cell_type": "code",
   "execution_count": 13,
   "metadata": {},
   "outputs": [
    {
     "data": {
      "text/plain": [
       "<matplotlib.axes._subplots.AxesSubplot at 0x1380809eba8>"
      ]
     },
     "execution_count": 13,
     "metadata": {},
     "output_type": "execute_result"
    },
    {
     "data": {
      "image/png": "[encoded data removed]",
      "text/plain": [
       "<Figure size 432x288 with 1 Axes>"
      ]
     },
     "metadata": {},
     "output_type": "display_data"
    }
   ],
   "source": [
    "train_data.drop([\"id\"],axis=1).boxplot()"
   ]
  },
  {
   "cell_type": "code",
   "execution_count": 14,
   "metadata": {},
   "outputs": [
    {
     "data": {
      "text/html": [
       "<div>\n",
       "<style scoped>\n",
       "    .dataframe tbody tr th:only-of-type {\n",
       "        vertical-align: middle;\n",
       "    }\n",
       "\n",
       "    .dataframe tbody tr th {\n",
       "        vertical-align: top;\n",
       "    }\n",
       "\n",
       "    .dataframe thead th {\n",
       "        text-align: right;\n",
       "    }\n",
       "</style>\n",
       "<table border=\"1\" class=\"dataframe\">\n",
       "  <thead>\n",
       "    <tr style=\"text-align: right;\">\n",
       "      <th></th>\n",
       "      <th>id</th>\n",
       "      <th>city</th>\n",
       "      <th>hour</th>\n",
       "      <th>is_workday</th>\n",
       "      <th>weather</th>\n",
       "      <th>temp_1</th>\n",
       "      <th>temp_2</th>\n",
       "      <th>wind</th>\n",
       "      <th>y</th>\n",
       "    </tr>\n",
       "  </thead>\n",
       "  <tbody>\n",
       "    <tr>\n",
       "      <th>4688</th>\n",
       "      <td>4689</td>\n",
       "      <td>0</td>\n",
       "      <td>21</td>\n",
       "      <td>1</td>\n",
       "      <td>1</td>\n",
       "      <td>11.4</td>\n",
       "      <td>11.7</td>\n",
       "      <td>7</td>\n",
       "      <td>38</td>\n",
       "    </tr>\n",
       "    <tr>\n",
       "      <th>3063</th>\n",
       "      <td>3064</td>\n",
       "      <td>0</td>\n",
       "      <td>12</td>\n",
       "      <td>1</td>\n",
       "      <td>1</td>\n",
       "      <td>17.2</td>\n",
       "      <td>17.8</td>\n",
       "      <td>6</td>\n",
       "      <td>71</td>\n",
       "    </tr>\n",
       "    <tr>\n",
       "      <th>8044</th>\n",
       "      <td>8045</td>\n",
       "      <td>0</td>\n",
       "      <td>13</td>\n",
       "      <td>1</td>\n",
       "      <td>1</td>\n",
       "      <td>14.8</td>\n",
       "      <td>15.2</td>\n",
       "      <td>6</td>\n",
       "      <td>76</td>\n",
       "    </tr>\n",
       "    <tr>\n",
       "      <th>1982</th>\n",
       "      <td>1983</td>\n",
       "      <td>0</td>\n",
       "      <td>15</td>\n",
       "      <td>1</td>\n",
       "      <td>1</td>\n",
       "      <td>21.7</td>\n",
       "      <td>24.6</td>\n",
       "      <td>6</td>\n",
       "      <td>46</td>\n",
       "    </tr>\n",
       "    <tr>\n",
       "      <th>1545</th>\n",
       "      <td>1546</td>\n",
       "      <td>0</td>\n",
       "      <td>3</td>\n",
       "      <td>0</td>\n",
       "      <td>2</td>\n",
       "      <td>-3.7</td>\n",
       "      <td>-13.4</td>\n",
       "      <td>6</td>\n",
       "      <td>3</td>\n",
       "    </tr>\n",
       "    <tr>\n",
       "      <th>1245</th>\n",
       "      <td>1246</td>\n",
       "      <td>0</td>\n",
       "      <td>23</td>\n",
       "      <td>1</td>\n",
       "      <td>1</td>\n",
       "      <td>10.1</td>\n",
       "      <td>10.2</td>\n",
       "      <td>6</td>\n",
       "      <td>21</td>\n",
       "    </tr>\n",
       "    <tr>\n",
       "      <th>5903</th>\n",
       "      <td>5904</td>\n",
       "      <td>1</td>\n",
       "      <td>1</td>\n",
       "      <td>1</td>\n",
       "      <td>1</td>\n",
       "      <td>6.2</td>\n",
       "      <td>0.1</td>\n",
       "      <td>6</td>\n",
       "      <td>1</td>\n",
       "    </tr>\n",
       "    <tr>\n",
       "      <th>3346</th>\n",
       "      <td>3347</td>\n",
       "      <td>1</td>\n",
       "      <td>18</td>\n",
       "      <td>0</td>\n",
       "      <td>3</td>\n",
       "      <td>29.2</td>\n",
       "      <td>32.6</td>\n",
       "      <td>7</td>\n",
       "      <td>54</td>\n",
       "    </tr>\n",
       "    <tr>\n",
       "      <th>833</th>\n",
       "      <td>834</td>\n",
       "      <td>1</td>\n",
       "      <td>17</td>\n",
       "      <td>1</td>\n",
       "      <td>1</td>\n",
       "      <td>6.5</td>\n",
       "      <td>1.5</td>\n",
       "      <td>6</td>\n",
       "      <td>56</td>\n",
       "    </tr>\n",
       "    <tr>\n",
       "      <th>6598</th>\n",
       "      <td>6599</td>\n",
       "      <td>1</td>\n",
       "      <td>17</td>\n",
       "      <td>0</td>\n",
       "      <td>3</td>\n",
       "      <td>22.1</td>\n",
       "      <td>22.0</td>\n",
       "      <td>7</td>\n",
       "      <td>4</td>\n",
       "    </tr>\n",
       "  </tbody>\n",
       "</table>\n",
       "</div>"
      ],
      "text/plain": [
       "        id  city  hour  is_workday  weather  temp_1  temp_2  wind   y\n",
       "4688  4689     0    21           1        1    11.4    11.7     7  38\n",
       "3063  3064     0    12           1        1    17.2    17.8     6  71\n",
       "8044  8045     0    13           1        1    14.8    15.2     6  76\n",
       "1982  1983     0    15           1        1    21.7    24.6     6  46\n",
       "1545  1546     0     3           0        2    -3.7   -13.4     6   3\n",
       "1245  1246     0    23           1        1    10.1    10.2     6  21\n",
       "5903  5904     1     1           1        1     6.2     0.1     6   1\n",
       "3346  3347     1    18           0        3    29.2    32.6     7  54\n",
       "833    834     1    17           1        1     6.5     1.5     6  56\n",
       "6598  6599     1    17           0        3    22.1    22.0     7   4"
      ]
     },
     "execution_count": 14,
     "metadata": {},
     "output_type": "execute_result"
    }
   ],
   "source": [
    "#看来那几个离群点什么情况\n",
    "train_data[train_data[\"wind\"] > 5]"
   ]
  },
  {
   "cell_type": "code",
   "execution_count": 15,
   "metadata": {},
   "outputs": [
    {
     "data": {
      "text/html": [
       "<div>\n",
       "<style scoped>\n",
       "    .dataframe tbody tr th:only-of-type {\n",
       "        vertical-align: middle;\n",
       "    }\n",
       "\n",
       "    .dataframe tbody tr th {\n",
       "        vertical-align: top;\n",
       "    }\n",
       "\n",
       "    .dataframe thead th {\n",
       "        text-align: right;\n",
       "    }\n",
       "</style>\n",
       "<table border=\"1\" class=\"dataframe\">\n",
       "  <thead>\n",
       "    <tr style=\"text-align: right;\">\n",
       "      <th></th>\n",
       "      <th>id</th>\n",
       "      <th>city</th>\n",
       "      <th>hour</th>\n",
       "      <th>is_workday</th>\n",
       "      <th>weather</th>\n",
       "      <th>temp_1</th>\n",
       "      <th>temp_2</th>\n",
       "      <th>wind</th>\n",
       "      <th>y</th>\n",
       "    </tr>\n",
       "  </thead>\n",
       "  <tbody>\n",
       "    <tr>\n",
       "      <th>8172</th>\n",
       "      <td>8173</td>\n",
       "      <td>0</td>\n",
       "      <td>18</td>\n",
       "      <td>1</td>\n",
       "      <td>4</td>\n",
       "      <td>1.0</td>\n",
       "      <td>-1.4</td>\n",
       "      <td>0</td>\n",
       "      <td>41</td>\n",
       "    </tr>\n",
       "    <tr>\n",
       "      <th>7331</th>\n",
       "      <td>7332</td>\n",
       "      <td>0</td>\n",
       "      <td>1</td>\n",
       "      <td>0</td>\n",
       "      <td>4</td>\n",
       "      <td>-1.6</td>\n",
       "      <td>-7.2</td>\n",
       "      <td>1</td>\n",
       "      <td>5</td>\n",
       "    </tr>\n",
       "  </tbody>\n",
       "</table>\n",
       "</div>"
      ],
      "text/plain": [
       "        id  city  hour  is_workday  weather  temp_1  temp_2  wind   y\n",
       "8172  8173     0    18           1        4     1.0    -1.4     0  41\n",
       "7331  7332     0     1           0        4    -1.6    -7.2     1   5"
      ]
     },
     "execution_count": 15,
     "metadata": {},
     "output_type": "execute_result"
    }
   ],
   "source": [
    "train_data[train_data[\"weather\"] == 4] \n",
    "\n"
   ]
  },
  {
   "cell_type": "code",
   "execution_count": 16,
   "metadata": {},
   "outputs": [
    {
     "data": {
      "text/plain": [
       "Text(0,0.5,'时段')"
      ]
     },
     "execution_count": 16,
     "metadata": {},
     "output_type": "execute_result"
    },
    {
     "data": {
      "image/png": "[encoded data removed]",
      "text/plain": [
       "<Figure size 432x288 with 1 Axes>"
      ]
     },
     "metadata": {},
     "output_type": "display_data"
    }
   ],
   "source": [
    "plt.bar(train_data[\"hour\"],train_data[\"y\"])    #各个时间的骑车分布\n",
    "plt.title(\"时间对使用量的影响\")\n",
    "plt.xlabel(\"使用量\")\n",
    "plt.ylabel(\"时段\")"
   ]
  },
  {
   "cell_type": "markdown",
   "metadata": {},
   "source": [
    "可以看到凌晨4点最少人用，7、8点上班高峰，午饭时间也是，傍晚5、6点最多人用，符合常理，时间段是一个重要影响。\n",
    "可以考考虑把高于上午七点的时段定义为高峰期，1表示"
   ]
  },
  {
   "cell_type": "code",
   "execution_count": 17,
   "metadata": {},
   "outputs": [
    {
     "data": {
      "text/plain": [
       "Text(0,0.5,'使用量')"
      ]
     },
     "execution_count": 17,
     "metadata": {},
     "output_type": "execute_result"
    },
    {
     "data": {
      "image/png": "[encoded data removed]",
      "text/plain": [
       "<Figure size 432x288 with 1 Axes>"
      ]
     },
     "metadata": {},
     "output_type": "display_data"
    }
   ],
   "source": [
    "#不同的城市由于地形，气候等等也会影响骑车的积极性\n",
    "sns.boxplot(x=train_data[\"city\"],y=train_data[\"y\"])    #各个城市的骑车分布 ,明显的0号城市更加热衷于骑自行车\n",
    "plt.title(\"城市对使用量的影响\")\n",
    "plt.xlabel(\"城市\")\n",
    "plt.ylabel(\"使用量\")"
   ]
  },
  {
   "cell_type": "markdown",
   "metadata": {},
   "source": [
    "不由得很好奇，两个城市的使用量高峰是否有所不同？"
   ]
  },
  {
   "cell_type": "code",
   "execution_count": 18,
   "metadata": {},
   "outputs": [
    {
     "data": {
      "text/plain": [
       "Text(0.5,1,'两个城市的使用量比较')"
      ]
     },
     "execution_count": 18,
     "metadata": {},
     "output_type": "execute_result"
    },
    {
     "data": {
      "image/png": "[encoded data removed]",
      "text/plain": [
       "<Figure size 432x288 with 1 Axes>"
      ]
     },
     "metadata": {},
     "output_type": "display_data"
    }
   ],
   "source": [
    "c_0 = train_data[train_data[\"city\"] == 0]\n",
    "\n",
    "\n",
    "c_1 = train_data[train_data[\"city\"] == 1]\n",
    "\n",
    "plt.bar(c_0[\"hour\"],c_0[\"y\"],width=0.8)\n",
    "\n",
    "plt.bar(c_1[\"hour\"],c_1[\"y\"],width = 0.4)\n",
    "plt.title(\"两个城市的使用量比较\")"
   ]
  },
  {
   "cell_type": "markdown",
   "metadata": {},
   "source": [
    "可以看到他们大致是相同的，可能城市0更加多人导致每个时段的使用量都高一点"
   ]
  },
  {
   "cell_type": "code",
   "execution_count": 19,
   "metadata": {},
   "outputs": [
    {
     "data": {
      "text/plain": [
       "Text(0,0.5,'使用量')"
      ]
     },
     "execution_count": 19,
     "metadata": {},
     "output_type": "execute_result"
    },
    {
     "data": {
      "image/png": "[encoded data removed]",
      "text/plain": [
       "<Figure size 432x288 with 1 Axes>"
      ]
     },
     "metadata": {},
     "output_type": "display_data"
    }
   ],
   "source": [
    "sns.boxplot(x=train_data[\"is_workday\"],y=train_data[\"y\"])   #工作日使用单车更多，说明大家主要用于通勤\n",
    "plt.title(\"工作日对使用量的影响\")\n",
    "plt.xlabel(\"工作日\")\n",
    "plt.ylabel(\"使用量\")"
   ]
  },
  {
   "cell_type": "code",
   "execution_count": 20,
   "metadata": {},
   "outputs": [
    {
     "data": {
      "text/plain": [
       "Text(0,0.5,'使用量')"
      ]
     },
     "execution_count": 20,
     "metadata": {},
     "output_type": "execute_result"
    },
    {
     "data": {
      "image/png": "[encoded data removed]",
      "text/plain": [
       "<Figure size 432x288 with 1 Axes>"
      ]
     },
     "metadata": {},
     "output_type": "display_data"
    }
   ],
   "source": [
    "sns.barplot(x=train_data[\"weather\"],y=train_data[\"y\"])  \n",
    "plt.title(\"天气对使用量的影响\")\n",
    "plt.xlabel(\"天气\")\n",
    "plt.ylabel(\"使用量\")"
   ]
  },
  {
   "cell_type": "markdown",
   "metadata": {},
   "source": [
    "1为晴朗，2为多云、阴天，3为轻度降水天气，4为强降水天气,随着天气逐渐恶劣，单车的使用也逐渐减小"
   ]
  },
  {
   "cell_type": "markdown",
   "metadata": {},
   "source": [
    "接下来看看气温和体感温度的影响"
   ]
  },
  {
   "cell_type": "code",
   "execution_count": 21,
   "metadata": {},
   "outputs": [
    {
     "data": {
      "text/plain": [
       "<matplotlib.axes._subplots.AxesSubplot at 0x13810997d30>"
      ]
     },
     "execution_count": 21,
     "metadata": {},
     "output_type": "execute_result"
    },
    {
     "data": {
      "image/png": "[encoded data removed]",
      "text/plain": [
       "<Figure size 432x288 with 1 Axes>"
      ]
     },
     "metadata": {},
     "output_type": "display_data"
    }
   ],
   "source": [
    "sns.regplot(x=train_data[\"temp_1\"],y=train_data[\"y\"])\n",
    "sns.regplot(x=train_data[\"temp_2\"],y=train_data[\"y\"])"
   ]
  },
  {
   "cell_type": "markdown",
   "metadata": {},
   "source": [
    "几乎就是重合的啊，说明两个气温之间的多重共线性应该挺严重的。。。。单车使用基本都在10-35左右的区间为主，太热太冷都少人起，经过查阅资料发现，由于体感温度是由气温以及风速计算得出的，所以体感温度已经包含了气温，以及一部分的风速信息，与现有的风力等级可以能会存在一些线性关系，考虑删掉体感温度。"
   ]
  },
  {
   "cell_type": "markdown",
   "metadata": {},
   "source": [
    "此外，两个温度对使用量的影响也很明显，在不反人类的区间内，气温越高，使用越多"
   ]
  },
  {
   "cell_type": "code",
   "execution_count": 22,
   "metadata": {},
   "outputs": [
    {
     "data": {
      "text/plain": [
       "<matplotlib.axes._subplots.AxesSubplot at 0x1381107e470>"
      ]
     },
     "execution_count": 22,
     "metadata": {},
     "output_type": "execute_result"
    },
    {
     "data": {
      "image/png": "[encoded data removed]",
      "text/plain": [
       "<Figure size 432x288 with 1 Axes>"
      ]
     },
     "metadata": {},
     "output_type": "display_data"
    }
   ],
   "source": [
    "sns.regplot(x=train_data[\"temp_1\"],y=train_data[\"temp_2\"])   #两个气温之间确实多重共线性"
   ]
  },
  {
   "cell_type": "code",
   "execution_count": 23,
   "metadata": {},
   "outputs": [
    {
     "data": {
      "text/plain": [
       "Text(0,0.5,'使用量')"
      ]
     },
     "execution_count": 23,
     "metadata": {},
     "output_type": "execute_result"
    },
    {
     "data": {
      "image/png": "[encoded data removed]",
      "text/plain": [
       "<Figure size 432x288 with 1 Axes>"
      ]
     },
     "metadata": {},
     "output_type": "display_data"
    }
   ],
   "source": [
    "#接下来考察风力对使用量的影响，以及风力对气温的影响。\n",
    "plt.bar(train_data[\"wind\"],train_data[\"y\"])  \n",
    "plt.title(\"风力对使用量的影响\")\n",
    "plt.xlabel(\"风力\")\n",
    "plt.ylabel(\"使用量\")"
   ]
  },
  {
   "cell_type": "markdown",
   "metadata": {},
   "source": [
    "三级开始会有些微影响，六级开始风力巨大影响"
   ]
  },
  {
   "cell_type": "code",
   "execution_count": 24,
   "metadata": {},
   "outputs": [
    {
     "data": {
      "text/plain": [
       "Text(0,0.5,'气温')"
      ]
     },
     "execution_count": 24,
     "metadata": {},
     "output_type": "execute_result"
    },
    {
     "data": {
      "image/png": "[encoded data removed]",
      "text/plain": [
       "<Figure size 432x288 with 1 Axes>"
      ]
     },
     "metadata": {},
     "output_type": "display_data"
    }
   ],
   "source": [
    "plt.scatter(train_data[\"wind\"],train_data[\"temp_1\"])  \n",
    "plt.title(\"风力对气温的影响\")\n",
    "plt.xlabel(\"风力\")\n",
    "plt.ylabel(\"气温\")"
   ]
  },
  {
   "cell_type": "code",
   "execution_count": 25,
   "metadata": {},
   "outputs": [
    {
     "data": {
      "text/plain": [
       "Text(0,0.5,'体感温度')"
      ]
     },
     "execution_count": 25,
     "metadata": {},
     "output_type": "execute_result"
    },
    {
     "data": {
      "image/png": "[encoded data removed]",
      "text/plain": [
       "<Figure size 432x288 with 1 Axes>"
      ]
     },
     "metadata": {},
     "output_type": "display_data"
    }
   ],
   "source": [
    "plt.scatter(train_data[\"wind\"],train_data[\"temp_2\"])  \n",
    "plt.title(\"风力对体感温度的影响\")\n",
    "plt.xlabel(\"风力\")\n",
    "plt.ylabel(\"体感温度\")"
   ]
  },
  {
   "cell_type": "code",
   "execution_count": 26,
   "metadata": {},
   "outputs": [
    {
     "data": {
      "text/plain": [
       "<matplotlib.axes._subplots.AxesSubplot at 0x13816dda438>"
      ]
     },
     "execution_count": 26,
     "metadata": {},
     "output_type": "execute_result"
    },
    {
     "data": {
      "image/png": "[encoded data removed]",
      "text/plain": [
       "<Figure size 432x288 with 1 Axes>"
      ]
     },
     "metadata": {},
     "output_type": "display_data"
    }
   ],
   "source": [
    "#时间对体感温度的影响\n",
    "sns.barplot(train_X.groupby([\"hour\"]).mean()[\"temp_2\"].index,train_X.groupby([\"hour\"]).mean()[\"temp_2\"].values)"
   ]
  },
  {
   "cell_type": "code",
   "execution_count": 27,
   "metadata": {},
   "outputs": [
    {
     "data": {
      "image/png": "[encoded data removed]",
      "text/plain": [
       "<Figure size 432x288 with 1 Axes>"
      ]
     },
     "metadata": {},
     "output_type": "display_data"
    },
    {
     "data": {
      "image/png": "[encoded data removed]",
      "text/plain": [
       "<Figure size 432x288 with 1 Axes>"
      ]
     },
     "metadata": {},
     "output_type": "display_data"
    },
    {
     "data": {
      "image/png": "[encoded data removed]",
      "text/plain": [
       "<Figure size 432x288 with 1 Axes>"
      ]
     },
     "metadata": {},
     "output_type": "display_data"
    }
   ],
   "source": [
    "for i in [\"temp_1\",\"temp_2\",\"y\"]:\n",
    "    sns.distplot(train_data[i])\n",
    "    plt.title(i+\"的分布\")\n",
    "    plt.show()"
   ]
  },
  {
   "cell_type": "markdown",
   "metadata": {},
   "source": [
    "都不是正态分布。"
   ]
  },
  {
   "cell_type": "code",
   "execution_count": 28,
   "metadata": {},
   "outputs": [
    {
     "name": "stdout",
     "output_type": "stream",
     "text": [
      "1.1622863589865795\n",
      "0.9167852339082492\n"
     ]
    }
   ],
   "source": [
    "print(train_data[\"y\"].skew())\n",
    "print(train_data[\"y\"].kurt())"
   ]
  },
  {
   "cell_type": "code",
   "execution_count": 29,
   "metadata": {},
   "outputs": [
    {
     "name": "stdout",
     "output_type": "stream",
     "text": [
      "                  id      city      hour  is_workday   weather    temp_1  \\\n",
      "id          1.000000  0.021696  0.012588    0.011467  0.000239 -0.008814   \n",
      "city        0.021696  1.000000  0.005884    0.003898  0.022632 -0.055042   \n",
      "hour        0.012588  0.005884  1.000000    0.018901 -0.027345  0.134477   \n",
      "is_workday  0.011467  0.003898  0.018901    1.000000  0.034854  0.054798   \n",
      "weather     0.000239  0.022632 -0.027345    0.034854  1.000000 -0.102270   \n",
      "temp_1     -0.008814 -0.055042  0.134477    0.054798 -0.102270  1.000000   \n",
      "temp_2     -0.008528 -0.052855  0.133224    0.053970 -0.105228  0.988271   \n",
      "wind       -0.013097  0.005086  0.125003    0.003423  0.027998 -0.008358   \n",
      "y          -0.002136 -0.157726  0.405485    0.034090 -0.148379  0.416803   \n",
      "\n",
      "              temp_2      wind         y  \n",
      "id         -0.008528 -0.013097 -0.002136  \n",
      "city       -0.052855  0.005086 -0.157726  \n",
      "hour        0.133224  0.125003  0.405485  \n",
      "is_workday  0.053970  0.003423  0.034090  \n",
      "weather    -0.105228  0.027998 -0.148379  \n",
      "temp_1      0.988271 -0.008358  0.416803  \n",
      "temp_2      1.000000 -0.042605  0.414955  \n",
      "wind       -0.042605  1.000000  0.105949  \n",
      "y           0.414955  0.105949  1.000000  \n"
     ]
    },
    {
     "data": {
      "text/plain": [
       "<matplotlib.axes._subplots.AxesSubplot at 0x1381b5ff0b8>"
      ]
     },
     "execution_count": 29,
     "metadata": {},
     "output_type": "execute_result"
    },
    {
     "data": {
      "image/png": "[encoded data removed]",
      "text/plain": [
       "<Figure size 2400x1600 with 2 Axes>"
      ]
     },
     "metadata": {},
     "output_type": "display_data"
    }
   ],
   "source": [
    "plt.figure(dpi=400)\n",
    "cor_mat = train_data.corr()\n",
    "print(cor_mat)\n",
    "sns.heatmap(cor_mat)"
   ]
  },
  {
   "cell_type": "code",
   "execution_count": 30,
   "metadata": {},
   "outputs": [
    {
     "data": {
      "text/plain": [
       "id            8.343797e+06\n",
       "city          2.500265e-01\n",
       "hour          4.823030e+01\n",
       "is_workday    2.155931e-01\n",
       "weather       4.041245e-01\n",
       "temp_1        8.122119e+01\n",
       "temp_2        1.277399e+02\n",
       "wind          1.195792e+00\n",
       "y             2.287719e+03\n",
       "dtype: float64"
      ]
     },
     "execution_count": 30,
     "metadata": {},
     "output_type": "execute_result"
    }
   ],
   "source": [
    "train_data.var()  #再看看方差"
   ]
  },
  {
   "cell_type": "markdown",
   "metadata": {},
   "source": [
    "看起来也没有异常值，不太需要处理。"
   ]
  },
  {
   "cell_type": "markdown",
   "metadata": {},
   "source": [
    "注意到上面有些离散型特征例如风力，天气等，他们的一些取值如风力6级，7级数量很少，考虑把他们合并，下面详细考察"
   ]
  },
  {
   "cell_type": "code",
   "execution_count": 31,
   "metadata": {},
   "outputs": [
    {
     "data": {
      "text/plain": [
       "<BarContainer object of 24 artists>"
      ]
     },
     "execution_count": 31,
     "metadata": {},
     "output_type": "execute_result"
    },
    {
     "data": {
      "image/png": "[encoded data removed]",
      "text/plain": [
       "<Figure size 432x288 with 1 Axes>"
      ]
     },
     "metadata": {},
     "output_type": "display_data"
    }
   ],
   "source": [
    "plt.bar(x=train_data[\"hour\"].value_counts().index,height=train_data[\"hour\"].value_counts())  #各个时间端分布均匀"
   ]
  },
  {
   "cell_type": "code",
   "execution_count": 32,
   "metadata": {},
   "outputs": [
    {
     "data": {
      "text/plain": [
       "<BarContainer object of 4 artists>"
      ]
     },
     "execution_count": 32,
     "metadata": {},
     "output_type": "execute_result"
    },
    {
     "data": {
      "image/png": "[encoded data removed]",
      "text/plain": [
       "<Figure size 432x288 with 1 Axes>"
      ]
     },
     "metadata": {},
     "output_type": "display_data"
    }
   ],
   "source": [
    "plt.bar(x=train_data[\"weather\"].value_counts().index,height=train_data[\"weather\"].value_counts(),width=0.2)  #各个时间端分布均匀"
   ]
  },
  {
   "cell_type": "markdown",
   "metadata": {},
   "source": [
    "天气四只有两个，考虑把他们和天气三合并，改为期望值"
   ]
  },
  {
   "cell_type": "code",
   "execution_count": 33,
   "metadata": {},
   "outputs": [
    {
     "data": {
      "text/plain": [
       "<BarContainer object of 8 artists>"
      ]
     },
     "execution_count": 33,
     "metadata": {},
     "output_type": "execute_result"
    },
    {
     "data": {
      "image/png": "[encoded data removed]",
      "text/plain": [
       "<Figure size 432x288 with 1 Axes>"
      ]
     },
     "metadata": {},
     "output_type": "display_data"
    }
   ],
   "source": [
    "plt.bar(x=train_data[\"wind\"].value_counts().index,height=train_data[\"wind\"].value_counts(),width=0.2)"
   ]
  },
  {
   "cell_type": "markdown",
   "metadata": {},
   "source": [
    "考虑天气5，6，7合并,改为期望值"
   ]
  },
  {
   "cell_type": "code",
   "execution_count": 34,
   "metadata": {},
   "outputs": [],
   "source": [
    "def encode(data):\n",
    "    #合并天气，风力，定义把各个时间段划分为高峰，半高峰，非高峰，用2，1，0表示\n",
    "    data[\"is_peak\"] = 1\n",
    "    \n",
    "    for i in [8,17,18]:\n",
    "        data.loc[data[data[\"hour\"] == i].index,[\"is_peak\"]] = 2\n",
    "        \n",
    "        \n",
    "    for i in [0,1,2,3,4,5,6,23]:\n",
    "        data.loc[data[data[\"hour\"] == i].index,[\"is_peak\"]] = 0\n",
    "        \n",
    "        \n",
    "    \n",
    "    data.loc[data[data[\"weather\"] == 3].index,[\"weather\"]] = 3.5\n",
    "    data.loc[data[data[\"weather\"] == 4].index,[\"weather\"]] = 3.5\n",
    "    \n",
    "\n",
    "    \n",
    "    data.loc[data[data[\"wind\"] == 5].index,[\"wind\"]] = 6\n",
    "    data.loc[data[data[\"wind\"] == 7].index,[\"wind\"]] = 6\n",
    "    \n",
    "    \n",
    "        \n",
    "    data[\"is_warm\"] = 1\n",
    "    data.loc[data[data[\"temp_1\"] < 10].index,[\"is_warm\"]] = 1\n",
    "    data.loc[data[(data[\"temp_1\"] > 10) & (data[\"temp_1\"] <= 20) ].index,[\"is_warm\"]] = 2\n",
    "    data.loc[data[(data[\"temp_1\"] > 20) & (data[\"temp_1\"] <= 30) ].index,[\"is_warm\"]] = 3\n",
    "    data.loc[data[data[\"temp_1\"] > 30].index,[\"is_warm\"]] = 4\n",
    "             \n",
    " \n",
    "    return data"
   ]
  },
  {
   "cell_type": "code",
   "execution_count": 35,
   "metadata": {},
   "outputs": [],
   "source": [
    "train_X = encode(train_X)\n",
    "dev_X = encode(dev_X)\n",
    "test = encode(test)"
   ]
  },
  {
   "cell_type": "code",
   "execution_count": 36,
   "metadata": {},
   "outputs": [],
   "source": [
    "def gen_feature(data):  #生成大量交叉特征，这里借用多项式回归的思想来构筑特征了\n",
    "    a = [\"city\",\"hour\",\"is_workday\",\"weather\",\"temp_1\",\"wind\",\"is_peak\",\"is_warm\"]\n",
    "    for i in a:\n",
    "        for j in a:\n",
    "            if (a.index(i) <= a.index(j)):\n",
    "                data[\"{}*{}\".format(i,j)] = data[i] * data[j]\n",
    "                data[\"{}+{}\".format(i,j)] = data[i] + data[j]\n",
    "                \n",
    "    return data"
   ]
  },
  {
   "cell_type": "code",
   "execution_count": 37,
   "metadata": {},
   "outputs": [],
   "source": [
    "train_X = gen_feature(train_X)\n",
    "dev_X = gen_feature(dev_X)\n",
    "test = gen_feature(test)"
   ]
  },
  {
   "cell_type": "code",
   "execution_count": 38,
   "metadata": {},
   "outputs": [],
   "source": [
    "#由于城市并没有顺序，考虑使用独热编码\n",
    "def one_hot(data):\n",
    "    #独热编码\n",
    "    data=pd.get_dummies(data,columns=[\"city\"],prefix=\"city\",prefix_sep=\"\")   \n",
    "    \n",
    "    \n",
    "    return data"
   ]
  },
  {
   "cell_type": "code",
   "execution_count": 39,
   "metadata": {},
   "outputs": [],
   "source": [
    "#测试代码\n",
    "train_X = one_hot(train_X)\n",
    "dev_X = one_hot(dev_X)\n",
    "test = one_hot(test)"
   ]
  },
  {
   "cell_type": "code",
   "execution_count": 40,
   "metadata": {},
   "outputs": [],
   "source": [
    "def select_feature(data):\n",
    "    data = data.drop([\"id\"],axis=1)\n",
    "    return data"
   ]
  },
  {
   "cell_type": "code",
   "execution_count": 41,
   "metadata": {},
   "outputs": [],
   "source": [
    "train_X = select_feature(train_X)\n",
    "dev_X = select_feature(dev_X)\n",
    "test = select_feature(test)"
   ]
  },
  {
   "cell_type": "code",
   "execution_count": 42,
   "metadata": {},
   "outputs": [],
   "source": [
    "def scale(train_X,dev_X,test):\n",
    "    scaler = StandardScaler().fit(train_X)\n",
    "    train_X = scaler.transform(train_X)\n",
    "    dev_X = scaler.transform(dev_X)\n",
    "    test = scaler.transform(test)\n",
    "    \n",
    "    return train_X,dev_X,test"
   ]
  },
  {
   "cell_type": "code",
   "execution_count": 43,
   "metadata": {},
   "outputs": [],
   "source": [
    "train_X,dev_X,test = scale(train_X,dev_X,test)"
   ]
  },
  {
   "cell_type": "code",
   "execution_count": 44,
   "metadata": {},
   "outputs": [],
   "source": [
    "#def Pca(train_X,dev_X,test):\n",
    "#    p = PCA(n_components=22).fit(train_X)\n",
    "#    train_X = p.transform(train_X)\n",
    "#    dev_X = p.transform(dev_X)\n",
    "#    test = p.transform(test)\n",
    "#    return  train_X,dev_X,test\n",
    "#\n",
    "#train_X,dev_X,test = Pca(train_X,dev_X,test)                 PCA反而会降低模型表现，不使用PCA"
   ]
  },
  {
   "cell_type": "code",
   "execution_count": 45,
   "metadata": {},
   "outputs": [],
   "source": [
    "def GBDT(train_X,train_Y,dev_X,dev_Y,test,test_id):   #现在很好了\n",
    "    mymodel = GradientBoostingRegressor(learning_rate=0.2,n_estimators=180,max_depth = 3,min_samples_split=4,min_samples_leaf=5,random_state=0)\n",
    "    mymodel.fit(train_X,train_Y)\n",
    "    \n",
    "    pre_on_train = mymodel.predict(train_X)\n",
    "    mse_t = mean_squared_error(train_Y,pre_on_train)\n",
    "    print(\"训练集上的RMSE是:\",np.sqrt(mse_t))\n",
    "    \n",
    "    pre_on_dev = mymodel.predict(dev_X)\n",
    "    mse_d = mean_squared_error(dev_Y, pre_on_dev)\n",
    "    print(\"dev集上的RMSE是：\",np.sqrt(mse_d))\n",
    "    \n",
    "    sub = mymodel.predict(test)\n",
    "    \n",
    "    \n",
    "    return sub,pre_on_train,pre_on_dev"
   ]
  },
  {
   "cell_type": "code",
   "execution_count": 46,
   "metadata": {},
   "outputs": [],
   "source": [
    "def XGB(train_X,train_Y,dev_X,dev_Y,test,test_id):   #调好了\n",
    "    mymodel = XGBRegressor(learning_rate=0.32,n_estimators=57,reg_lambda=205,max_depth=7,random_state=0)\n",
    "    mymodel.fit(train_X,train_Y)\n",
    "    \n",
    "    pre_on_train = mymodel.predict(train_X)\n",
    "    mse_t = mean_squared_error(train_Y,pre_on_train)\n",
    "    print(\"训练集上的RMSE是:\",np.sqrt(mse_t))\n",
    "    \n",
    "    pre_on_dev = mymodel.predict(dev_X)\n",
    "    mse_d = mean_squared_error(dev_Y, pre_on_dev)\n",
    "    print(\"dev集上的RMSE是：\",np.sqrt(mse_d))\n",
    "    \n",
    "    sub = mymodel.predict(test)\n",
    "    \n",
    "    \n",
    "    return sub,pre_on_train,pre_on_dev"
   ]
  },
  {
   "cell_type": "code",
   "execution_count": 47,
   "metadata": {},
   "outputs": [],
   "source": [
    "def RF(train_X,train_Y,dev_X,dev_Y,test,test_id):\n",
    "    \n",
    "    \n",
    "    mymodel = RandomForestRegressor(n_estimators=18,max_depth=12,min_samples_split=4,min_samples_leaf=6,random_state=0)\n",
    "    mymodel.fit(train_X,train_Y)\n",
    "    \n",
    "    pre_on_train = mymodel.predict(train_X)\n",
    "    mse_t = mean_squared_error(train_Y,pre_on_train)\n",
    "    print(\"训练集上的RMSE是:\",np.sqrt(mse_t))\n",
    "    \n",
    "    pre_on_dev = mymodel.predict(dev_X)\n",
    "    mse_d = mean_squared_error(dev_Y, pre_on_dev)\n",
    "    print(\"dev集上的RMSE是：\",np.sqrt(mse_d))\n",
    "    \n",
    "    sub = mymodel.predict(test)\n",
    "    \n",
    "    \n",
    "    return sub,pre_on_train,pre_on_dev"
   ]
  },
  {
   "cell_type": "code",
   "execution_count": 48,
   "metadata": {},
   "outputs": [],
   "source": [
    "def ADB(train_X,train_Y,dev_X,dev_Y,test,test_id):\n",
    "    \n",
    "    \n",
    "    mymodel = AdaBoostRegressor(base_estimator=DecisionTreeRegressor(max_depth=10,min_samples_split=4, min_samples_leaf=3,random_state=0), \n",
    "                                n_estimators=6,learning_rate=0.1,loss='square',random_state=0)\n",
    "    mymodel.fit(train_X,train_Y)\n",
    "    \n",
    "    pre_on_train = mymodel.predict(train_X)\n",
    "    mse_t = mean_squared_error(train_Y,pre_on_train)\n",
    "    print(\"训练集上的RMSE是:\",np.sqrt(mse_t))\n",
    "    \n",
    "    pre_on_dev = mymodel.predict(dev_X)\n",
    "    mse_d = mean_squared_error(dev_Y, pre_on_dev)\n",
    "    print(\"dev集上的RMSE是：\",np.sqrt(mse_d))\n",
    "    \n",
    "    sub = mymodel.predict(test)\n",
    "    \n",
    "    \n",
    "    return sub,pre_on_train,pre_on_dev"
   ]
  },
  {
   "cell_type": "code",
   "execution_count": 49,
   "metadata": {},
   "outputs": [],
   "source": [
    "def LGBM(train_X,train_Y,dev_X,dev_Y,test,test_id):   #ok\n",
    "    \n",
    "    \n",
    "    mymodel = LGBMRegressor(learning_rate=0.3,n_estimators=300,max_depth=4,reg_lambda=400,random_state=0)\n",
    "    mymodel.fit(train_X,train_Y)\n",
    "    \n",
    "    pre_on_train = mymodel.predict(train_X)\n",
    "    mse_t = mean_squared_error(train_Y,pre_on_train)\n",
    "    print(\"训练集上的RMSE是:\",np.sqrt(mse_t))\n",
    "    \n",
    "    pre_on_dev = mymodel.predict(dev_X)\n",
    "    mse_d = mean_squared_error(dev_Y, pre_on_dev)\n",
    "    print(\"dev集上的RMSE是：\",np.sqrt(mse_d))\n",
    "    \n",
    "    sub = mymodel.predict(test)\n",
    "    \n",
    "    \n",
    "    return sub,pre_on_train,pre_on_dev"
   ]
  },
  {
   "cell_type": "code",
   "execution_count": 50,
   "metadata": {},
   "outputs": [],
   "source": [
    "def DTR(train_X,train_Y,dev_X,dev_Y,test,test_id,random_state=0):\n",
    "    \n",
    "    \n",
    "    mymodel = DecisionTreeRegressor(min_samples_split=10, min_samples_leaf=18)\n",
    "    mymodel.fit(train_X,train_Y)\n",
    "    \n",
    "    pre_on_train = mymodel.predict(train_X)\n",
    "    mse_t = mean_squared_error(train_Y,pre_on_train)\n",
    "    print(\"训练集上的RMSE是:\",np.sqrt(mse_t))\n",
    "    \n",
    "    pre_on_dev = mymodel.predict(dev_X)\n",
    "    mse_d = mean_squared_error(dev_Y, pre_on_dev)\n",
    "    print(\"dev集上的RMSE是：\",np.sqrt(mse_d))\n",
    "    \n",
    "    sub = mymodel.predict(test)\n",
    "    \n",
    "    \n",
    "    return sub,pre_on_train,pre_on_dev"
   ]
  },
  {
   "cell_type": "code",
   "execution_count": 51,
   "metadata": {},
   "outputs": [
    {
     "name": "stdout",
     "output_type": "stream",
     "text": [
      "训练集上的RMSE是: 13.143714270182098\n",
      "dev集上的RMSE是： 14.806728910967852\n"
     ]
    }
   ],
   "source": [
    "sub1,pre_on_train1,pre_on_dev1 = GBDT(train_X,train_Y,dev_X,dev_Y,test,test_id)"
   ]
  },
  {
   "cell_type": "code",
   "execution_count": 52,
   "metadata": {},
   "outputs": [
    {
     "name": "stdout",
     "output_type": "stream",
     "text": [
      "[12:23:58] WARNING: C:/Jenkins/workspace/xgboost-win64_release_0.90/src/objective/regression_obj.cu:152: reg:linear is now deprecated in favor of reg:squarederror.\n",
      "训练集上的RMSE是: 12.039548116695059\n",
      "dev集上的RMSE是： 14.842062953713091\n"
     ]
    }
   ],
   "source": [
    "sub2,pre_on_train2,pre_on_dev2 = XGB(train_X,train_Y,dev_X,dev_Y,test,test_id)"
   ]
  },
  {
   "cell_type": "code",
   "execution_count": 53,
   "metadata": {},
   "outputs": [
    {
     "name": "stdout",
     "output_type": "stream",
     "text": [
      "训练集上的RMSE是: 12.133056158287902\n",
      "dev集上的RMSE是： 15.325455578228123\n"
     ]
    }
   ],
   "source": [
    "sub3,pre_on_train3,pre_on_dev3 = RF(train_X,train_Y,dev_X,dev_Y,test,test_id)"
   ]
  },
  {
   "cell_type": "code",
   "execution_count": 54,
   "metadata": {},
   "outputs": [
    {
     "name": "stdout",
     "output_type": "stream",
     "text": [
      "训练集上的RMSE是: 12.895397190540121\n",
      "dev集上的RMSE是： 17.14330098826163\n"
     ]
    }
   ],
   "source": [
    "sub4,pre_on_train4,pre_on_dev4 = ADB(train_X,train_Y,dev_X,dev_Y,test,test_id)"
   ]
  },
  {
   "cell_type": "code",
   "execution_count": 55,
   "metadata": {},
   "outputs": [
    {
     "name": "stdout",
     "output_type": "stream",
     "text": [
      "训练集上的RMSE是: 12.591864837425216\n",
      "dev集上的RMSE是： 15.109402707184643\n"
     ]
    }
   ],
   "source": [
    "sub5,pre_on_train5,pre_on_dev5 = LGBM(train_X,train_Y,dev_X,dev_Y,test,test_id)"
   ]
  },
  {
   "cell_type": "code",
   "execution_count": 56,
   "metadata": {},
   "outputs": [
    {
     "name": "stdout",
     "output_type": "stream",
     "text": [
      "训练集上的RMSE是: 14.51769400001542\n",
      "dev集上的RMSE是： 17.664515603537506\n"
     ]
    }
   ],
   "source": [
    "sub6,pre_on_train6,pre_on_dev6 = DTR(train_X,train_Y,dev_X,dev_Y,test,test_id)"
   ]
  },
  {
   "cell_type": "markdown",
   "metadata": {},
   "source": [
    "经过多次测试，只挑选这四个,GBDT,XGB和LGBM,RF"
   ]
  },
  {
   "cell_type": "code",
   "execution_count": null,
   "metadata": {},
   "outputs": [],
   "source": []
  },
  {
   "cell_type": "code",
   "execution_count": 57,
   "metadata": {},
   "outputs": [],
   "source": [
    "sub1 = pd.Series(sub1)\n",
    "sub2 = pd.Series(sub2)\n",
    "sub3 = pd.Series(sub3)\n",
    "sub4 = pd.Series(sub4)\n",
    "sub5 = pd.Series(sub5)\n",
    "sub6 = pd.Series(sub6)\n",
    "pre_on_train1 = pd.Series(pre_on_train1)\n",
    "pre_on_train2 = pd.Series(pre_on_train2)\n",
    "pre_on_train3 = pd.Series(pre_on_train3)\n",
    "pre_on_train4 = pd.Series(pre_on_train4)\n",
    "pre_on_train5 = pd.Series(pre_on_train5)\n",
    "pre_on_train6 = pd.Series(pre_on_train6)\n",
    "pre_on_dev1 = pd.Series(pre_on_dev1)\n",
    "pre_on_dev2 = pd.Series(pre_on_dev2)\n",
    "pre_on_dev3 = pd.Series(pre_on_dev3)\n",
    "pre_on_dev4 = pd.Series(pre_on_dev4)\n",
    "pre_on_dev5 = pd.Series(pre_on_dev5)\n",
    "pre_on_dev6 = pd.Series(pre_on_dev6)"
   ]
  },
  {
   "cell_type": "code",
   "execution_count": null,
   "metadata": {},
   "outputs": [],
   "source": []
  },
  {
   "cell_type": "code",
   "execution_count": 75,
   "metadata": {},
   "outputs": [],
   "source": [
    "def LA(train_Y):   #最后再融合一次\n",
    "    t_X = pd.concat([pre_on_train1,pre_on_train2,pre_on_train3,pre_on_train5],axis=1)\n",
    "    \n",
    "\n",
    "    mymodel =  Ridge(alpha=1200000)  \n",
    "    mymodel.fit(t_X,train_Y)\n",
    "    \n",
    "    \n",
    "    pre_on_train = mymodel.predict(t_X)\n",
    "    mse_t = mean_squared_error(train_Y,pre_on_train)\n",
    "    print(\"训练集上的RMSE是:\",np.sqrt(mse_t))\n",
    "    \n",
    "    \n",
    "    d_X = pd.concat([pre_on_dev1,pre_on_dev2,pre_on_dev3,pre_on_dev5],axis=1)\n",
    "    pre_on_dev = mymodel.predict(d_X)\n",
    "    mse_d = mean_squared_error(dev_Y, pre_on_dev)\n",
    "    print(\"dev集上的RMSE是：\",np.sqrt(mse_d))\n",
    "    \n",
    "    \n",
    "    all_sub = pd.concat([sub1,sub2,sub3,sub5],axis=1)\n",
    "    \n",
    "    \n",
    "    sub = mymodel.predict(all_sub)\n",
    "    \n",
    "    return sub"
   ]
  },
  {
   "cell_type": "code",
   "execution_count": 76,
   "metadata": {},
   "outputs": [
    {
     "name": "stdout",
     "output_type": "stream",
     "text": [
      "训练集上的RMSE是: 12.012001514227261\n",
      "dev集上的RMSE是： 14.548251765528708\n"
     ]
    }
   ],
   "source": [
    "sub = LA(train_Y)"
   ]
  },
  {
   "cell_type": "code",
   "execution_count": 60,
   "metadata": {},
   "outputs": [],
   "source": [
    "def submit(sub,test_id):\n",
    "    sub = sub.reshape(7000,).tolist()    #改为合适的格式\n",
    "    test_id = test_id.values.reshape(7000,).tolist()     #改为合适的格式\n",
    "    \n",
    "    \n",
    "    submit= pd.DataFrame({'id': test_id ,'y': sub},pd.Index(range(7000)))\n",
    "    \n",
    "    submit.to_csv(r'C:\\Users\\85402\\Desktop\\bike\\bike_predict.csv', index=False)\n",
    "    return "
   ]
  },
  {
   "cell_type": "code",
   "execution_count": 61,
   "metadata": {},
   "outputs": [],
   "source": [
    "submit(sub,test_id)"
   ]
  },
  {
   "cell_type": "code",
   "execution_count": 62,
   "metadata": {},
   "outputs": [
    {
     "data": {
      "text/html": [
       "<div>\n",
       "<style scoped>\n",
       "    .dataframe tbody tr th:only-of-type {\n",
       "        vertical-align: middle;\n",
       "    }\n",
       "\n",
       "    .dataframe tbody tr th {\n",
       "        vertical-align: top;\n",
       "    }\n",
       "\n",
       "    .dataframe thead th {\n",
       "        text-align: right;\n",
       "    }\n",
       "</style>\n",
       "<table border=\"1\" class=\"dataframe\">\n",
       "  <thead>\n",
       "    <tr style=\"text-align: right;\">\n",
       "      <th></th>\n",
       "      <th>id</th>\n",
       "      <th>y</th>\n",
       "    </tr>\n",
       "  </thead>\n",
       "  <tbody>\n",
       "    <tr>\n",
       "      <th>0</th>\n",
       "      <td>10001</td>\n",
       "      <td>5.714181</td>\n",
       "    </tr>\n",
       "    <tr>\n",
       "      <th>1</th>\n",
       "      <td>10002</td>\n",
       "      <td>89.464255</td>\n",
       "    </tr>\n",
       "    <tr>\n",
       "      <th>2</th>\n",
       "      <td>10003</td>\n",
       "      <td>84.147889</td>\n",
       "    </tr>\n",
       "    <tr>\n",
       "      <th>3</th>\n",
       "      <td>10004</td>\n",
       "      <td>62.603672</td>\n",
       "    </tr>\n",
       "    <tr>\n",
       "      <th>4</th>\n",
       "      <td>10005</td>\n",
       "      <td>52.448934</td>\n",
       "    </tr>\n",
       "    <tr>\n",
       "      <th>5</th>\n",
       "      <td>10006</td>\n",
       "      <td>17.817882</td>\n",
       "    </tr>\n",
       "    <tr>\n",
       "      <th>6</th>\n",
       "      <td>10007</td>\n",
       "      <td>78.628784</td>\n",
       "    </tr>\n",
       "    <tr>\n",
       "      <th>7</th>\n",
       "      <td>10008</td>\n",
       "      <td>48.558766</td>\n",
       "    </tr>\n",
       "    <tr>\n",
       "      <th>8</th>\n",
       "      <td>10009</td>\n",
       "      <td>0.919577</td>\n",
       "    </tr>\n",
       "    <tr>\n",
       "      <th>9</th>\n",
       "      <td>10010</td>\n",
       "      <td>39.493473</td>\n",
       "    </tr>\n",
       "    <tr>\n",
       "      <th>10</th>\n",
       "      <td>10011</td>\n",
       "      <td>33.069173</td>\n",
       "    </tr>\n",
       "    <tr>\n",
       "      <th>11</th>\n",
       "      <td>10012</td>\n",
       "      <td>181.858961</td>\n",
       "    </tr>\n",
       "    <tr>\n",
       "      <th>12</th>\n",
       "      <td>10013</td>\n",
       "      <td>61.890967</td>\n",
       "    </tr>\n",
       "    <tr>\n",
       "      <th>13</th>\n",
       "      <td>10014</td>\n",
       "      <td>9.759643</td>\n",
       "    </tr>\n",
       "    <tr>\n",
       "      <th>14</th>\n",
       "      <td>10015</td>\n",
       "      <td>54.537452</td>\n",
       "    </tr>\n",
       "    <tr>\n",
       "      <th>15</th>\n",
       "      <td>10016</td>\n",
       "      <td>115.641120</td>\n",
       "    </tr>\n",
       "    <tr>\n",
       "      <th>16</th>\n",
       "      <td>10017</td>\n",
       "      <td>97.333336</td>\n",
       "    </tr>\n",
       "    <tr>\n",
       "      <th>17</th>\n",
       "      <td>10018</td>\n",
       "      <td>17.855160</td>\n",
       "    </tr>\n",
       "    <tr>\n",
       "      <th>18</th>\n",
       "      <td>10019</td>\n",
       "      <td>111.470289</td>\n",
       "    </tr>\n",
       "    <tr>\n",
       "      <th>19</th>\n",
       "      <td>10020</td>\n",
       "      <td>98.047924</td>\n",
       "    </tr>\n",
       "    <tr>\n",
       "      <th>20</th>\n",
       "      <td>10021</td>\n",
       "      <td>0.799144</td>\n",
       "    </tr>\n",
       "    <tr>\n",
       "      <th>21</th>\n",
       "      <td>10022</td>\n",
       "      <td>60.363751</td>\n",
       "    </tr>\n",
       "    <tr>\n",
       "      <th>22</th>\n",
       "      <td>10023</td>\n",
       "      <td>36.051960</td>\n",
       "    </tr>\n",
       "    <tr>\n",
       "      <th>23</th>\n",
       "      <td>10024</td>\n",
       "      <td>73.913409</td>\n",
       "    </tr>\n",
       "    <tr>\n",
       "      <th>24</th>\n",
       "      <td>10025</td>\n",
       "      <td>90.226252</td>\n",
       "    </tr>\n",
       "    <tr>\n",
       "      <th>25</th>\n",
       "      <td>10026</td>\n",
       "      <td>125.783978</td>\n",
       "    </tr>\n",
       "    <tr>\n",
       "      <th>26</th>\n",
       "      <td>10027</td>\n",
       "      <td>33.580910</td>\n",
       "    </tr>\n",
       "    <tr>\n",
       "      <th>27</th>\n",
       "      <td>10028</td>\n",
       "      <td>60.180100</td>\n",
       "    </tr>\n",
       "    <tr>\n",
       "      <th>28</th>\n",
       "      <td>10029</td>\n",
       "      <td>99.171256</td>\n",
       "    </tr>\n",
       "    <tr>\n",
       "      <th>29</th>\n",
       "      <td>10030</td>\n",
       "      <td>64.926999</td>\n",
       "    </tr>\n",
       "    <tr>\n",
       "      <th>...</th>\n",
       "      <td>...</td>\n",
       "      <td>...</td>\n",
       "    </tr>\n",
       "    <tr>\n",
       "      <th>6970</th>\n",
       "      <td>16971</td>\n",
       "      <td>19.011691</td>\n",
       "    </tr>\n",
       "    <tr>\n",
       "      <th>6971</th>\n",
       "      <td>16972</td>\n",
       "      <td>72.489458</td>\n",
       "    </tr>\n",
       "    <tr>\n",
       "      <th>6972</th>\n",
       "      <td>16973</td>\n",
       "      <td>32.683564</td>\n",
       "    </tr>\n",
       "    <tr>\n",
       "      <th>6973</th>\n",
       "      <td>16974</td>\n",
       "      <td>18.220457</td>\n",
       "    </tr>\n",
       "    <tr>\n",
       "      <th>6974</th>\n",
       "      <td>16975</td>\n",
       "      <td>53.932617</td>\n",
       "    </tr>\n",
       "    <tr>\n",
       "      <th>6975</th>\n",
       "      <td>16976</td>\n",
       "      <td>22.791059</td>\n",
       "    </tr>\n",
       "    <tr>\n",
       "      <th>6976</th>\n",
       "      <td>16977</td>\n",
       "      <td>14.006894</td>\n",
       "    </tr>\n",
       "    <tr>\n",
       "      <th>6977</th>\n",
       "      <td>16978</td>\n",
       "      <td>59.353562</td>\n",
       "    </tr>\n",
       "    <tr>\n",
       "      <th>6978</th>\n",
       "      <td>16979</td>\n",
       "      <td>9.403481</td>\n",
       "    </tr>\n",
       "    <tr>\n",
       "      <th>6979</th>\n",
       "      <td>16980</td>\n",
       "      <td>85.050861</td>\n",
       "    </tr>\n",
       "    <tr>\n",
       "      <th>6980</th>\n",
       "      <td>16981</td>\n",
       "      <td>66.211765</td>\n",
       "    </tr>\n",
       "    <tr>\n",
       "      <th>6981</th>\n",
       "      <td>16982</td>\n",
       "      <td>7.962414</td>\n",
       "    </tr>\n",
       "    <tr>\n",
       "      <th>6982</th>\n",
       "      <td>16983</td>\n",
       "      <td>27.748069</td>\n",
       "    </tr>\n",
       "    <tr>\n",
       "      <th>6983</th>\n",
       "      <td>16984</td>\n",
       "      <td>0.791619</td>\n",
       "    </tr>\n",
       "    <tr>\n",
       "      <th>6984</th>\n",
       "      <td>16985</td>\n",
       "      <td>57.948413</td>\n",
       "    </tr>\n",
       "    <tr>\n",
       "      <th>6985</th>\n",
       "      <td>16986</td>\n",
       "      <td>2.750108</td>\n",
       "    </tr>\n",
       "    <tr>\n",
       "      <th>6986</th>\n",
       "      <td>16987</td>\n",
       "      <td>39.456076</td>\n",
       "    </tr>\n",
       "    <tr>\n",
       "      <th>6987</th>\n",
       "      <td>16988</td>\n",
       "      <td>59.538579</td>\n",
       "    </tr>\n",
       "    <tr>\n",
       "      <th>6988</th>\n",
       "      <td>16989</td>\n",
       "      <td>40.165445</td>\n",
       "    </tr>\n",
       "    <tr>\n",
       "      <th>6989</th>\n",
       "      <td>16990</td>\n",
       "      <td>64.606858</td>\n",
       "    </tr>\n",
       "    <tr>\n",
       "      <th>6990</th>\n",
       "      <td>16991</td>\n",
       "      <td>60.107327</td>\n",
       "    </tr>\n",
       "    <tr>\n",
       "      <th>6991</th>\n",
       "      <td>16992</td>\n",
       "      <td>16.433040</td>\n",
       "    </tr>\n",
       "    <tr>\n",
       "      <th>6992</th>\n",
       "      <td>16993</td>\n",
       "      <td>52.353260</td>\n",
       "    </tr>\n",
       "    <tr>\n",
       "      <th>6993</th>\n",
       "      <td>16994</td>\n",
       "      <td>79.405776</td>\n",
       "    </tr>\n",
       "    <tr>\n",
       "      <th>6994</th>\n",
       "      <td>16995</td>\n",
       "      <td>45.719550</td>\n",
       "    </tr>\n",
       "    <tr>\n",
       "      <th>6995</th>\n",
       "      <td>16996</td>\n",
       "      <td>46.921578</td>\n",
       "    </tr>\n",
       "    <tr>\n",
       "      <th>6996</th>\n",
       "      <td>16997</td>\n",
       "      <td>198.710874</td>\n",
       "    </tr>\n",
       "    <tr>\n",
       "      <th>6997</th>\n",
       "      <td>16998</td>\n",
       "      <td>203.312443</td>\n",
       "    </tr>\n",
       "    <tr>\n",
       "      <th>6998</th>\n",
       "      <td>16999</td>\n",
       "      <td>125.689019</td>\n",
       "    </tr>\n",
       "    <tr>\n",
       "      <th>6999</th>\n",
       "      <td>17000</td>\n",
       "      <td>91.980872</td>\n",
       "    </tr>\n",
       "  </tbody>\n",
       "</table>\n",
       "<p>7000 rows × 2 columns</p>\n",
       "</div>"
      ],
      "text/plain": [
       "         id           y\n",
       "0     10001    5.714181\n",
       "1     10002   89.464255\n",
       "2     10003   84.147889\n",
       "3     10004   62.603672\n",
       "4     10005   52.448934\n",
       "5     10006   17.817882\n",
       "6     10007   78.628784\n",
       "7     10008   48.558766\n",
       "8     10009    0.919577\n",
       "9     10010   39.493473\n",
       "10    10011   33.069173\n",
       "11    10012  181.858961\n",
       "12    10013   61.890967\n",
       "13    10014    9.759643\n",
       "14    10015   54.537452\n",
       "15    10016  115.641120\n",
       "16    10017   97.333336\n",
       "17    10018   17.855160\n",
       "18    10019  111.470289\n",
       "19    10020   98.047924\n",
       "20    10021    0.799144\n",
       "21    10022   60.363751\n",
       "22    10023   36.051960\n",
       "23    10024   73.913409\n",
       "24    10025   90.226252\n",
       "25    10026  125.783978\n",
       "26    10027   33.580910\n",
       "27    10028   60.180100\n",
       "28    10029   99.171256\n",
       "29    10030   64.926999\n",
       "...     ...         ...\n",
       "6970  16971   19.011691\n",
       "6971  16972   72.489458\n",
       "6972  16973   32.683564\n",
       "6973  16974   18.220457\n",
       "6974  16975   53.932617\n",
       "6975  16976   22.791059\n",
       "6976  16977   14.006894\n",
       "6977  16978   59.353562\n",
       "6978  16979    9.403481\n",
       "6979  16980   85.050861\n",
       "6980  16981   66.211765\n",
       "6981  16982    7.962414\n",
       "6982  16983   27.748069\n",
       "6983  16984    0.791619\n",
       "6984  16985   57.948413\n",
       "6985  16986    2.750108\n",
       "6986  16987   39.456076\n",
       "6987  16988   59.538579\n",
       "6988  16989   40.165445\n",
       "6989  16990   64.606858\n",
       "6990  16991   60.107327\n",
       "6991  16992   16.433040\n",
       "6992  16993   52.353260\n",
       "6993  16994   79.405776\n",
       "6994  16995   45.719550\n",
       "6995  16996   46.921578\n",
       "6996  16997  198.710874\n",
       "6997  16998  203.312443\n",
       "6998  16999  125.689019\n",
       "6999  17000   91.980872\n",
       "\n",
       "[7000 rows x 2 columns]"
      ]
     },
     "execution_count": 62,
     "metadata": {},
     "output_type": "execute_result"
    }
   ],
   "source": [
    "pd.read_csv(r\"C:\\Users\\85402\\Desktop\\bike\\bike_predict.csv\")"
   ]
  },
  {
   "cell_type": "code",
   "execution_count": null,
   "metadata": {},
   "outputs": [],
   "source": []
  },
  {
   "cell_type": "code",
   "execution_count": null,
   "metadata": {},
   "outputs": [],
   "source": []
  },
  {
   "cell_type": "code",
   "execution_count": null,
   "metadata": {},
   "outputs": [],
   "source": []
  },
  {
   "cell_type": "code",
   "execution_count": null,
   "metadata": {},
   "outputs": [],
   "source": []
  },
  {
   "cell_type": "code",
   "execution_count": null,
   "metadata": {},
   "outputs": [],
   "source": []
  },
  {
   "cell_type": "code",
   "execution_count": null,
   "metadata": {},
   "outputs": [],
   "source": []
  },
  {
   "cell_type": "code",
   "execution_count": null,
   "metadata": {},
   "outputs": [],
   "source": []
  },
  {
   "cell_type": "code",
   "execution_count": null,
   "metadata": {},
   "outputs": [],
   "source": []
  },
  {
   "cell_type": "code",
   "execution_count": null,
   "metadata": {},
   "outputs": [],
   "source": []
  },
  {
   "cell_type": "code",
   "execution_count": null,
   "metadata": {},
   "outputs": [],
   "source": []
  },
  {
   "cell_type": "code",
   "execution_count": null,
   "metadata": {},
   "outputs": [],
   "source": []
  },
  {
   "cell_type": "code",
   "execution_count": null,
   "metadata": {},
   "outputs": [],
   "source": []
  },
  {
   "cell_type": "code",
   "execution_count": null,
   "metadata": {},
   "outputs": [],
   "source": []
  },
  {
   "cell_type": "code",
   "execution_count": null,
   "metadata": {},
   "outputs": [],
   "source": []
  },
  {
   "cell_type": "code",
   "execution_count": null,
   "metadata": {},
   "outputs": [],
   "source": []
  },
  {
   "cell_type": "code",
   "execution_count": null,
   "metadata": {},
   "outputs": [],
   "source": []
  },
  {
   "cell_type": "code",
   "execution_count": null,
   "metadata": {},
   "outputs": [],
   "source": []
  },
  {
   "cell_type": "code",
   "execution_count": null,
   "metadata": {},
   "outputs": [],
   "source": []
  },
  {
   "cell_type": "code",
   "execution_count": null,
   "metadata": {},
   "outputs": [],
   "source": []
  },
  {
   "cell_type": "code",
   "execution_count": null,
   "metadata": {},
   "outputs": [],
   "source": []
  },
  {
   "cell_type": "code",
   "execution_count": null,
   "metadata": {},
   "outputs": [],
   "source": []
  },
  {
   "cell_type": "code",
   "execution_count": null,
   "metadata": {},
   "outputs": [],
   "source": []
  },
  {
   "cell_type": "code",
   "execution_count": null,
   "metadata": {},
   "outputs": [],
   "source": []
  },
  {
   "cell_type": "code",
   "execution_count": null,
   "metadata": {},
   "outputs": [],
   "source": []
  },
  {
   "cell_type": "code",
   "execution_count": null,
   "metadata": {},
   "outputs": [],
   "source": []
  },
  {
   "cell_type": "code",
   "execution_count": null,
   "metadata": {},
   "outputs": [],
   "source": []
  },
  {
   "cell_type": "code",
   "execution_count": null,
   "metadata": {},
   "outputs": [],
   "source": []
  },
  {
   "cell_type": "code",
   "execution_count": null,
   "metadata": {},
   "outputs": [],
   "source": []
  },
  {
   "cell_type": "code",
   "execution_count": null,
   "metadata": {},
   "outputs": [],
   "source": []
  },
  {
   "cell_type": "code",
   "execution_count": null,
   "metadata": {},
   "outputs": [],
   "source": []
  },
  {
   "cell_type": "code",
   "execution_count": null,
   "metadata": {},
   "outputs": [],
   "source": []
  },
  {
   "cell_type": "code",
   "execution_count": null,
   "metadata": {},
   "outputs": [],
   "source": []
  },
  {
   "cell_type": "code",
   "execution_count": null,
   "metadata": {},
   "outputs": [],
   "source": []
  },
  {
   "cell_type": "code",
   "execution_count": null,
   "metadata": {},
   "outputs": [],
   "source": []
  },
  {
   "cell_type": "code",
   "execution_count": null,
   "metadata": {},
   "outputs": [],
   "source": []
  },
  {
   "cell_type": "code",
   "execution_count": null,
   "metadata": {},
   "outputs": [],
   "source": []
  },
  {
   "cell_type": "code",
   "execution_count": null,
   "metadata": {},
   "outputs": [],
   "source": []
  },
  {
   "cell_type": "code",
   "execution_count": null,
   "metadata": {},
   "outputs": [],
   "source": []
  },
  {
   "cell_type": "code",
   "execution_count": null,
   "metadata": {},
   "outputs": [],
   "source": []
  },
  {
   "cell_type": "code",
   "execution_count": null,
   "metadata": {},
   "outputs": [],
   "source": []
  },
  {
   "cell_type": "code",
   "execution_count": null,
   "metadata": {},
   "outputs": [],
   "source": []
  },
  {
   "cell_type": "code",
   "execution_count": null,
   "metadata": {},
   "outputs": [],
   "source": []
  },
  {
   "cell_type": "code",
   "execution_count": null,
   "metadata": {},
   "outputs": [],
   "source": []
  },
  {
   "cell_type": "code",
   "execution_count": null,
   "metadata": {},
   "outputs": [],
   "source": []
  },
  {
   "cell_type": "code",
   "execution_count": null,
   "metadata": {},
   "outputs": [],
   "source": []
  },
  {
   "cell_type": "code",
   "execution_count": null,
   "metadata": {},
   "outputs": [],
   "source": []
  },
  {
   "cell_type": "code",
   "execution_count": null,
   "metadata": {},
   "outputs": [],
   "source": []
  },
  {
   "cell_type": "code",
   "execution_count": null,
   "metadata": {},
   "outputs": [],
   "source": []
  },
  {
   "cell_type": "code",
   "execution_count": null,
   "metadata": {},
   "outputs": [],
   "source": []
  },
  {
   "cell_type": "code",
   "execution_count": null,
   "metadata": {},
   "outputs": [],
   "source": []
  },
  {
   "cell_type": "code",
   "execution_count": null,
   "metadata": {},
   "outputs": [],
   "source": []
  },
  {
   "cell_type": "code",
   "execution_count": null,
   "metadata": {},
   "outputs": [],
   "source": []
  },
  {
   "cell_type": "code",
   "execution_count": null,
   "metadata": {},
   "outputs": [],
   "source": []
  },
  {
   "cell_type": "code",
   "execution_count": null,
   "metadata": {},
   "outputs": [],
   "source": []
  },
  {
   "cell_type": "code",
   "execution_count": null,
   "metadata": {},
   "outputs": [],
   "source": []
  },
  {
   "cell_type": "code",
   "execution_count": null,
   "metadata": {},
   "outputs": [],
   "source": []
  },
  {
   "cell_type": "code",
   "execution_count": null,
   "metadata": {},
   "outputs": [],
   "source": []
  },
  {
   "cell_type": "code",
   "execution_count": null,
   "metadata": {},
   "outputs": [],
   "source": []
  },
  {
   "cell_type": "code",
   "execution_count": null,
   "metadata": {},
   "outputs": [],
   "source": []
  },
  {
   "cell_type": "code",
   "execution_count": null,
   "metadata": {},
   "outputs": [],
   "source": []
  },
  {
   "cell_type": "code",
   "execution_count": null,
   "metadata": {},
   "outputs": [],
   "source": []
  },
  {
   "cell_type": "code",
   "execution_count": null,
   "metadata": {},
   "outputs": [],
   "source": []
  },
  {
   "cell_type": "code",
   "execution_count": null,
   "metadata": {},
   "outputs": [],
   "source": []
  },
  {
   "cell_type": "code",
   "execution_count": null,
   "metadata": {},
   "outputs": [],
   "source": []
  },
  {
   "cell_type": "code",
   "execution_count": null,
   "metadata": {},
   "outputs": [],
   "source": []
  },
  {
   "cell_type": "code",
   "execution_count": null,
   "metadata": {},
   "outputs": [],
   "source": []
  },
  {
   "cell_type": "code",
   "execution_count": null,
   "metadata": {},
   "outputs": [],
   "source": []
  },
  {
   "cell_type": "code",
   "execution_count": null,
   "metadata": {},
   "outputs": [],
   "source": []
  },
  {
   "cell_type": "code",
   "execution_count": null,
   "metadata": {},
   "outputs": [],
   "source": []
  },
  {
   "cell_type": "code",
   "execution_count": null,
   "metadata": {},
   "outputs": [],
   "source": []
  }
 ],
 "metadata": {
  "kernelspec": {
   "display_name": "Python 3",
   "language": "python",
   "name": "python3"
  },
  "language_info": {
   "codemirror_mode": {
    "name": "ipython",
    "version": 3
   },
   "file_extension": ".py",
   "mimetype": "text/x-python",
   "name": "python",
   "nbconvert_exporter": "python",
   "pygments_lexer": "ipython3",
   "version": "3.6.5"
  }
 },
 "nbformat": 4,
 "nbformat_minor": 2
}
